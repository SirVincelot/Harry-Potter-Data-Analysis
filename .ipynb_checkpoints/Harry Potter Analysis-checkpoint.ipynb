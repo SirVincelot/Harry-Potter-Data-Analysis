{
 "cells": [
  {
   "cell_type": "code",
   "execution_count": 1,
   "id": "5c7cdcfd-0e0a-42d4-82b3-c3be3149240c",
   "metadata": {
    "tags": []
   },
   "outputs": [],
   "source": [
    "# import packages\n",
    "import numpy as np\n",
    "import pandas as pd\n",
    "import matplotlib as mpl\n",
    "import matplotlib.pyplot as plt\n",
    "import seaborn as sns\n",
    "import scipy"
   ]
  },
  {
   "cell_type": "code",
   "execution_count": 11,
   "id": "55a51f9b-51f9-46c6-addc-6bb811724539",
   "metadata": {
    "tags": []
   },
   "outputs": [
    {
     "data": {
      "text/html": [
       "<div>\n",
       "<style scoped>\n",
       "    .dataframe tbody tr th:only-of-type {\n",
       "        vertical-align: middle;\n",
       "    }\n",
       "\n",
       "    .dataframe tbody tr th {\n",
       "        vertical-align: top;\n",
       "    }\n",
       "\n",
       "    .dataframe thead th {\n",
       "        text-align: right;\n",
       "    }\n",
       "</style>\n",
       "<table border=\"1\" class=\"dataframe\">\n",
       "  <thead>\n",
       "    <tr style=\"text-align: right;\">\n",
       "      <th></th>\n",
       "      <th>Id</th>\n",
       "      <th>Name</th>\n",
       "      <th>Gender</th>\n",
       "      <th>Job</th>\n",
       "      <th>House</th>\n",
       "      <th>Wand</th>\n",
       "      <th>Patronus</th>\n",
       "      <th>Species</th>\n",
       "      <th>Blood status</th>\n",
       "      <th>Hair colour</th>\n",
       "      <th>Eye colour</th>\n",
       "      <th>Loyalty</th>\n",
       "      <th>Skills</th>\n",
       "      <th>Birth</th>\n",
       "      <th>Death</th>\n",
       "    </tr>\n",
       "  </thead>\n",
       "  <tbody>\n",
       "    <tr>\n",
       "      <th>0</th>\n",
       "      <td>1</td>\n",
       "      <td>Harry James Potter</td>\n",
       "      <td>Male</td>\n",
       "      <td>Student</td>\n",
       "      <td>Gryffindor</td>\n",
       "      <td>11\"  Holly  phoenix feather</td>\n",
       "      <td>Stag</td>\n",
       "      <td>Human</td>\n",
       "      <td>Half-blood</td>\n",
       "      <td>Black</td>\n",
       "      <td>Bright green</td>\n",
       "      <td>Albus Dumbledore | Dumbledore's Army | Order o...</td>\n",
       "      <td>Parseltongue| Defence Against the Dark Arts | ...</td>\n",
       "      <td>31 July 1980</td>\n",
       "      <td>NaN</td>\n",
       "    </tr>\n",
       "    <tr>\n",
       "      <th>1</th>\n",
       "      <td>2</td>\n",
       "      <td>Ronald Bilius Weasley</td>\n",
       "      <td>Male</td>\n",
       "      <td>Student</td>\n",
       "      <td>Gryffindor</td>\n",
       "      <td>12\" Ash unicorn tail hair</td>\n",
       "      <td>Jack Russell terrier</td>\n",
       "      <td>Human</td>\n",
       "      <td>Pure-blood</td>\n",
       "      <td>Red</td>\n",
       "      <td>Blue</td>\n",
       "      <td>Dumbledore's Army | Order of the Phoenix | Hog...</td>\n",
       "      <td>Wizard chess | Quidditch goalkeeping</td>\n",
       "      <td>1 March 1980</td>\n",
       "      <td>NaN</td>\n",
       "    </tr>\n",
       "    <tr>\n",
       "      <th>2</th>\n",
       "      <td>3</td>\n",
       "      <td>Hermione Jean Granger</td>\n",
       "      <td>Female</td>\n",
       "      <td>Student</td>\n",
       "      <td>Gryffindor</td>\n",
       "      <td>10¾\"  vine wood dragon heartstring</td>\n",
       "      <td>Otter</td>\n",
       "      <td>Human</td>\n",
       "      <td>Muggle-born</td>\n",
       "      <td>Brown</td>\n",
       "      <td>Brown</td>\n",
       "      <td>Dumbledore's Army | Order of the Phoenix | Hog...</td>\n",
       "      <td>Almost everything</td>\n",
       "      <td>19 September, 1979</td>\n",
       "      <td>NaN</td>\n",
       "    </tr>\n",
       "  </tbody>\n",
       "</table>\n",
       "</div>"
      ],
      "text/plain": [
       "   Id                   Name  Gender      Job       House  \\\n",
       "0   1     Harry James Potter    Male  Student  Gryffindor   \n",
       "1   2  Ronald Bilius Weasley    Male  Student  Gryffindor   \n",
       "2   3  Hermione Jean Granger  Female  Student  Gryffindor   \n",
       "\n",
       "                                 Wand              Patronus Species  \\\n",
       "0         11\"  Holly  phoenix feather                  Stag   Human   \n",
       "1          12\" Ash unicorn tail hair   Jack Russell terrier   Human   \n",
       "2  10¾\"  vine wood dragon heartstring                 Otter   Human   \n",
       "\n",
       "  Blood status Hair colour    Eye colour  \\\n",
       "0   Half-blood       Black  Bright green   \n",
       "1   Pure-blood         Red          Blue   \n",
       "2  Muggle-born       Brown         Brown   \n",
       "\n",
       "                                             Loyalty  \\\n",
       "0  Albus Dumbledore | Dumbledore's Army | Order o...   \n",
       "1  Dumbledore's Army | Order of the Phoenix | Hog...   \n",
       "2  Dumbledore's Army | Order of the Phoenix | Hog...   \n",
       "\n",
       "                                              Skills               Birth Death  \n",
       "0  Parseltongue| Defence Against the Dark Arts | ...        31 July 1980   NaN  \n",
       "1               Wizard chess | Quidditch goalkeeping        1 March 1980   NaN  \n",
       "2                                  Almost everything  19 September, 1979   NaN  "
      ]
     },
     "execution_count": 11,
     "metadata": {},
     "output_type": "execute_result"
    }
   ],
   "source": [
    "df = pd.read_csv(\"Characters.csv\", sep=\";\")\n",
    "df.head(3)"
   ]
  },
  {
   "cell_type": "code",
   "execution_count": 21,
   "id": "6cdee484-ed56-4fd0-9474-9feb042c71a9",
   "metadata": {
    "tags": []
   },
   "outputs": [
    {
     "data": {
      "text/html": [
       "<div>\n",
       "<style scoped>\n",
       "    .dataframe tbody tr th:only-of-type {\n",
       "        vertical-align: middle;\n",
       "    }\n",
       "\n",
       "    .dataframe tbody tr th {\n",
       "        vertical-align: top;\n",
       "    }\n",
       "\n",
       "    .dataframe thead th {\n",
       "        text-align: right;\n",
       "    }\n",
       "</style>\n",
       "<table border=\"1\" class=\"dataframe\">\n",
       "  <thead>\n",
       "    <tr style=\"text-align: right;\">\n",
       "      <th></th>\n",
       "      <th>Gender</th>\n",
       "      <th>Count</th>\n",
       "    </tr>\n",
       "  </thead>\n",
       "  <tbody>\n",
       "    <tr>\n",
       "      <th>0</th>\n",
       "      <td>Female</td>\n",
       "      <td>49</td>\n",
       "    </tr>\n",
       "    <tr>\n",
       "      <th>1</th>\n",
       "      <td>Male</td>\n",
       "      <td>90</td>\n",
       "    </tr>\n",
       "  </tbody>\n",
       "</table>\n",
       "</div>"
      ],
      "text/plain": [
       "   Gender  Count\n",
       "0  Female     49\n",
       "1    Male     90"
      ]
     },
     "execution_count": 21,
     "metadata": {},
     "output_type": "execute_result"
    }
   ],
   "source": [
    "gender_equality = df.groupby(\"Gender\").Name.count().reset_index()\n",
    "gender_equality.columns = [\"Gender\", \"Count\"]\n",
    "gender_equality.head()"
   ]
  },
  {
   "cell_type": "code",
   "execution_count": 32,
   "id": "31944dc0-0082-4928-9781-3132c287efb6",
   "metadata": {
    "tags": []
   },
   "outputs": [
    {
     "data": {
      "image/png": "[encoded data removed]",
      "text/plain": [
       "<Figure size 640x480 with 1 Axes>"
      ]
     },
     "metadata": {},
     "output_type": "display_data"
    }
   ],
   "source": [
    "colors = sns.color_palette('pastel')[0:5]\n",
    "\n",
    "plt.pie(gender_equality[\"Count\"], labels = gender_equality[\"Gender\"], colors = colors);\n",
    "plt.title(\"Gender distribution in Harry Potter\");"
   ]
  }
 ],
 "metadata": {
  "kernelspec": {
   "display_name": "VIZ",
   "language": "python",
   "name": "viz"
  },
  "language_info": {
   "codemirror_mode": {
    "name": "ipython",
    "version": 3
   },
   "file_extension": ".py",
   "mimetype": "text/x-python",
   "name": "python",
   "nbconvert_exporter": "python",
   "pygments_lexer": "ipython3",
   "version": "3.11.3"
  }
 },
 "nbformat": 4,
 "nbformat_minor": 5
}
